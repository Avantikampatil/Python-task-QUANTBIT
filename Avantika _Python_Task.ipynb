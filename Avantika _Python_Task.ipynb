{
 "cells": [
  {
   "cell_type": "code",
   "execution_count": 2,
   "id": "7a0c9129-753b-4cd6-a309-7529211fadf0",
   "metadata": {},
   "outputs": [
    {
     "data": {
      "text/plain": [
       "'Python Task List'"
      ]
     },
     "execution_count": 2,
     "metadata": {},
     "output_type": "execute_result"
    }
   ],
   "source": [
    "'''QUANTBIT TECHNOLOGIES PVT LTD'''\n",
    "'''Python Task List'''"
   ]
  },
  {
   "cell_type": "code",
   "execution_count": 5,
   "id": "85e5b148-0116-451b-9181-4a83789f9ae1",
   "metadata": {},
   "outputs": [
    {
     "name": "stdin",
     "output_type": "stream",
     "text": [
      "Enter a string to reverse:  hello\n"
     ]
    },
    {
     "name": "stdout",
     "output_type": "stream",
     "text": [
      "Reversed string: olleh\n"
     ]
    }
   ],
   "source": [
    "'''Task 1'''\n",
    "def reverse_string(s):\n",
    "    reversed_str = \"\"\n",
    "    for char in s:\n",
    "        reversed_str = char + reversed_str\n",
    "    return reversed_str\n",
    "    \n",
    "input_string = input(\"Enter a string to reverse: \")\n",
    "output_string = reverse_string(input_string)\n",
    "print(\"Reversed string:\", output_string)"
   ]
  },
  {
   "cell_type": "code",
   "execution_count": 11,
   "id": "673a0861-f020-4c89-bc9f-f6ae4ce7aadf",
   "metadata": {},
   "outputs": [
    {
     "name": "stdin",
     "output_type": "stream",
     "text": [
      "Enter the file path containing integers:  \"C:\\Users\\Avantika\\OneDrive\\Desktop\\numbers.txt\"\n"
     ]
    },
    {
     "name": "stdout",
     "output_type": "stream",
     "text": [
      "Sum of integers in the file: 58\n"
     ]
    }
   ],
   "source": [
    "def sum_of_integers_in_file(file_path):\n",
    "    total_sum = 0\n",
    "    with open(file_path, 'r') as file:  \n",
    "        for line in file:\n",
    "            total_sum += int(line.strip())  \n",
    "    return total_sum\n",
    "\n",
    "file_path = input(\"Enter the file path containing integers: \")  \n",
    "output_sum = sum_of_integers_in_file(\"C:\\\\Users\\\\Avantika\\\\OneDrive\\\\Desktop\\\\numbers.txt\")  \n",
    "print(\"Sum of integers in the file:\", output_sum)"
   ]
  },
  {
   "cell_type": "code",
   "execution_count": 13,
   "id": "c0c6cfc3-5e30-4af9-b427-af5dd56f9e1d",
   "metadata": {},
   "outputs": [
    {
     "name": "stdin",
     "output_type": "stream",
     "text": [
      "Enter a list of numbers separated by spaces:  10 20 4 45 99\n"
     ]
    },
    {
     "name": "stdout",
     "output_type": "stream",
     "text": [
      "Second largest number: 45\n"
     ]
    }
   ],
   "source": [
    "def find_second_largest(numbers):\n",
    "    largest = second_largest = float('-inf')\n",
    "    for number in numbers:\n",
    "        if number > largest:\n",
    "            second_largest, largest = largest, number\n",
    "        elif number > second_largest and number != largest:\n",
    "            second_largest = number\n",
    "    return second_largest\n",
    "\n",
    "# Taking input from the user\n",
    "input_list = list(map(int, input(\"Enter a list of numbers separated by spaces: \").split()))\n",
    "output_second_largest = find_second_largest(input_list)\n",
    "print(\"Second largest number:\", output_second_largest)"
   ]
  },
  {
   "cell_type": "code",
   "execution_count": 14,
   "id": "5e32651d-0f01-42e0-a251-825807e509dc",
   "metadata": {},
   "outputs": [
    {
     "name": "stdout",
     "output_type": "stream",
     "text": [
      "\n",
      "--- Bank Account Menu ---\n",
      "1. Deposit\n",
      "2. Withdraw\n",
      "3. Check Balance\n",
      "4. Exit\n"
     ]
    },
    {
     "name": "stdin",
     "output_type": "stream",
     "text": [
      "Enter your choice:  1\n",
      "Enter the amount to deposit:  1000\n"
     ]
    },
    {
     "name": "stdout",
     "output_type": "stream",
     "text": [
      "Balance after deposit: 1000\n",
      "\n",
      "--- Bank Account Menu ---\n",
      "1. Deposit\n",
      "2. Withdraw\n",
      "3. Check Balance\n",
      "4. Exit\n"
     ]
    },
    {
     "name": "stdin",
     "output_type": "stream",
     "text": [
      "Enter your choice:  2\n",
      "Enter the amount to withdraw:  200\n"
     ]
    },
    {
     "name": "stdout",
     "output_type": "stream",
     "text": [
      "Balance after withdrawal: 800\n",
      "\n",
      "--- Bank Account Menu ---\n",
      "1. Deposit\n",
      "2. Withdraw\n",
      "3. Check Balance\n",
      "4. Exit\n"
     ]
    },
    {
     "name": "stdin",
     "output_type": "stream",
     "text": [
      "Enter your choice:  3\n"
     ]
    },
    {
     "name": "stdout",
     "output_type": "stream",
     "text": [
      "Current Balance: 800\n",
      "\n",
      "--- Bank Account Menu ---\n",
      "1. Deposit\n",
      "2. Withdraw\n",
      "3. Check Balance\n",
      "4. Exit\n"
     ]
    },
    {
     "name": "stdin",
     "output_type": "stream",
     "text": [
      "Enter your choice:  4\n"
     ]
    },
    {
     "name": "stdout",
     "output_type": "stream",
     "text": [
      "Exiting the program.\n"
     ]
    }
   ],
   "source": [
    "class BankAccount:\n",
    "    def __init__(self):\n",
    "        self.balance = 0 \n",
    "\n",
    "    def deposit(self, amount):\n",
    "        if amount > 0:  \n",
    "            self.balance += amount\n",
    "            print(f\"Balance after deposit: {self.balance}\")\n",
    "        else:\n",
    "            print(\"Deposit amount must be positive.\")\n",
    "\n",
    "    def withdraw(self, amount):\n",
    "        if amount > 0:  \n",
    "            if amount <= self.balance:  \n",
    "                self.balance -= amount\n",
    "                print(f\"Balance after withdrawal: {self.balance}\")\n",
    "            else:\n",
    "                print(\"Insufficient balance.\")\n",
    "        else:\n",
    "            print(\"Withdrawal amount must be positive.\")\n",
    "\n",
    "    def get_balance(self):\n",
    "        return self.balance  \n",
    "\n",
    "\n",
    "account = BankAccount()  \n",
    "\n",
    "while True:\n",
    "    print(\"\\n--- Bank Account Menu ---\")\n",
    "    print(\"1. Deposit\")\n",
    "    print(\"2. Withdraw\")\n",
    "    print(\"3. Check Balance\")\n",
    "    print(\"4. Exit\")\n",
    "    choice = int(input(\"Enter your choice: \"))\n",
    "\n",
    "    if choice == 1:\n",
    "        deposit_amount = int(input(\"Enter the amount to deposit: \"))\n",
    "        account.deposit(deposit_amount)\n",
    "    elif choice == 2:\n",
    "        withdraw_amount = int(input(\"Enter the amount to withdraw: \"))\n",
    "        account.withdraw(withdraw_amount)\n",
    "    elif choice == 3:\n",
    "        print(f\"Current Balance: {account.get_balance()}\")\n",
    "    elif choice == 4:\n",
    "        print(\"Exiting the program.\")\n",
    "        break\n",
    "    else:\n",
    "        print(\"Invalid choice. Please try again.\")\n"
   ]
  },
  {
   "cell_type": "code",
   "execution_count": 15,
   "id": "f2ef5a7c-f5ce-46fa-9a7c-de3907696888",
   "metadata": {},
   "outputs": [
    {
     "name": "stdin",
     "output_type": "stream",
     "text": [
      "Enter a number:  abc\n"
     ]
    },
    {
     "name": "stdout",
     "output_type": "stream",
     "text": [
      "Invalid input. Please enter a number.\n"
     ]
    },
    {
     "name": "stdin",
     "output_type": "stream",
     "text": [
      "Enter a number:  123\n"
     ]
    },
    {
     "name": "stdout",
     "output_type": "stream",
     "text": [
      "You entered: 123\n"
     ]
    }
   ],
   "source": [
    "while True:\n",
    "    user_input = input(\"Enter a number: \")\n",
    "    if user_input.isdigit(): \n",
    "        print(f\"You entered: {int(user_input)}\")  \n",
    "        break  \n",
    "    else:\n",
    "        print(\"Invalid input. Please enter a number.\") \n"
   ]
  },
  {
   "cell_type": "code",
   "execution_count": 17,
   "id": "78b58f0a-55f3-4db2-b981-0cf30337bc98",
   "metadata": {},
   "outputs": [
    {
     "name": "stdin",
     "output_type": "stream",
     "text": [
      "Enter the API URL:  https://jsonplaceholder.typicode.com/posts/1\n"
     ]
    },
    {
     "name": "stdout",
     "output_type": "stream",
     "text": [
      "Output:\n",
      "{'userId': 1, 'id': 1, 'title': 'sunt aut facere repellat provident occaecati excepturi optio reprehenderit', 'body': 'quia et suscipit\\nsuscipit recusandae consequuntur expedita et cum\\nreprehenderit molestiae ut ut quas totam\\nnostrum rerum est autem sunt rem eveniet architecto'}\n"
     ]
    }
   ],
   "source": [
    "import requests\n",
    "\n",
    "def fetch_data_from_api(api_url):\n",
    "    try:\n",
    "        response = requests.get(\"https://jsonplaceholder.typicode.com/posts/1\")  \n",
    "        if response.status_code == 200:  \n",
    "            data = response.json()  \n",
    "            print(\"Output:\")\n",
    "            print(data)  \n",
    "        else:\n",
    "            print(f\"Failed to fetch data. HTTP Status Code: {response.status_code}\")\n",
    "    except requests.exceptions.RequestException as e:\n",
    "        print(f\"An error occurred: {e}\")\n",
    "\n",
    "api_url = input(\"Enter the API URL: \") \n",
    "fetch_data_from_api(api_url)  \n"
   ]
  },
  {
   "cell_type": "code",
   "execution_count": 20,
   "id": "6dfd92ac-891d-4349-9d9f-d6fff5180c5f",
   "metadata": {},
   "outputs": [
    {
     "name": "stdin",
     "output_type": "stream",
     "text": [
      "Enter the file path:  \"C:\\Users\\Avantika\\OneDrive\\Desktop\\email.txt\"\n"
     ]
    },
    {
     "name": "stdout",
     "output_type": "stream",
     "text": [
      "Extracted email addresses: ['support@example.com', 'admin@example.org']\n"
     ]
    }
   ],
   "source": [
    "import re\n",
    "\n",
    "def extract_emails(file_path):\n",
    "    try:\n",
    "        with open(\"C:\\\\Users\\\\Avantika\\\\OneDrive\\\\Desktop\\\\email.txt\", 'r') as file:  # Open the file in read mode\n",
    "            content = file.read()  \n",
    "            email_pattern = r'[a-zA-Z0-9._%+-]+@[a-zA-Z0-9.-]+\\.[a-zA-Z]{2,}'\n",
    "            emails = re.findall(email_pattern, content)  \n",
    "            return emails\n",
    "    except FileNotFoundError:\n",
    "        print(\"The specified file was not found.\")\n",
    "        return []\n",
    "    except Exception as e:\n",
    "        print(f\"An error occurred: {e}\")\n",
    "        return []\n",
    "\n",
    "file_path = input(\"Enter the file path: \")  \n",
    "emails = extract_emails(file_path)  \n",
    "\n",
    "if emails:\n",
    "    print(\"Extracted email addresses:\", emails)\n",
    "else:\n",
    "    print(\"No email addresses found.\")\n"
   ]
  },
  {
   "cell_type": "code",
   "execution_count": 22,
   "id": "74767976-e4dc-4052-a575-5760805b6095",
   "metadata": {},
   "outputs": [
    {
     "name": "stdin",
     "output_type": "stream",
     "text": [
      "Enter a dataset :  1 2 2 3 4\n"
     ]
    },
    {
     "name": "stdout",
     "output_type": "stream",
     "text": [
      "Mean: 2.4\n",
      "Median: 2\n",
      "Mode: 2\n"
     ]
    }
   ],
   "source": [
    "import statistics\n",
    "\n",
    "def calculate_statistics(data):\n",
    "    try:\n",
    "        mean = statistics.mean(data)  \n",
    "        median = statistics.median(data)  \n",
    "        mode = statistics.mode(data) \n",
    "        return mean, median, mode\n",
    "    except statistics.StatisticsError as e:\n",
    "        return f\"Error: {e}\"\n",
    "\n",
    "data = list(map(int, input(\"Enter a dataset : \").split()))  \n",
    "mean, median, mode = calculate_statistics(data)  \n",
    "\n",
    "print(f\"Mean: {mean}\")\n",
    "print(f\"Median: {median}\")\n",
    "print(f\"Mode: {mode}\")\n"
   ]
  },
  {
   "cell_type": "code",
   "execution_count": 26,
   "id": "19d7d0be-685c-4483-afc5-296ae4db94c6",
   "metadata": {},
   "outputs": [
    {
     "name": "stdin",
     "output_type": "stream",
     "text": [
      "Enter a number to calculate its factorial:  5\n"
     ]
    },
    {
     "name": "stderr",
     "output_type": "stream",
     "text": [
      "....\n",
      "----------------------------------------------------------------------\n",
      "Ran 4 tests in 0.006s\n",
      "\n",
      "OK\n"
     ]
    },
    {
     "name": "stdout",
     "output_type": "stream",
     "text": [
      "The factorial of 5 is 120\n",
      "Test Passed for input 0\n",
      "Test Passed for input 1\n",
      "Test Passed for input 10\n",
      "Test Passed for input 5\n"
     ]
    }
   ],
   "source": [
    "import unittest\n",
    "\n",
    "def factorial(n):\n",
    "    if n == 0 or n == 1:\n",
    "        return 1\n",
    "    else:\n",
    "        result = 1\n",
    "        for i in range(2, n + 1):\n",
    "            result *= i\n",
    "        return result\n",
    "\n",
    "class TestFactorial(unittest.TestCase):\n",
    "\n",
    "    def test_factorial_5(self):\n",
    "        result = factorial(5)\n",
    "        self.assertEqual(result, 120)\n",
    "        print(f\"Test Passed for input 5\")\n",
    "\n",
    "    def test_factorial_0(self):\n",
    "        result = factorial(0)\n",
    "        self.assertEqual(result, 1)\n",
    "        print(f\"Test Passed for input 0\")\n",
    "\n",
    "    def test_factorial_1(self):\n",
    "        result = factorial(1)\n",
    "        self.assertEqual(result, 1)\n",
    "        print(f\"Test Passed for input 1\")\n",
    "\n",
    "    def test_factorial_10(self):\n",
    "        result = factorial(10)\n",
    "        self.assertEqual(result, 3628800)\n",
    "        print(f\"Test Passed for input 10\")\n",
    "\n",
    "def main():\n",
    "    try:\n",
    "        n = int(input(\"Enter a number to calculate its factorial: \"))  \n",
    "        result = factorial(n)\n",
    "        print(f\"The factorial of {n} is {result}\")  \n",
    "\n",
    "        unittest.TextTestRunner().run(unittest.TestLoader().loadTestsFromTestCase(TestFactorial))\n",
    "    \n",
    "    except ValueError:\n",
    "        print(\"Invalid input. Please enter an integer.\")  # Error handling for invalid input\n",
    "\n",
    "if __name__ == '__main__':\n",
    "    main()\n"
   ]
  },
  {
   "cell_type": "code",
   "execution_count": 31,
   "id": "4d7e75b7-0e31-4872-8e1a-649d86b678ab",
   "metadata": {},
   "outputs": [
    {
     "name": "stdin",
     "output_type": "stream",
     "text": [
      "Enter the JSON file path:  \"C:\\Users\\Avantika\\OneDrive\\Desktop\\data.json\"\n"
     ]
    },
    {
     "name": "stdout",
     "output_type": "stream",
     "text": [
      "name: Alice\n",
      "age: 30\n",
      "city: Wonderland\n"
     ]
    }
   ],
   "source": [
    "import json\n",
    "\n",
    "def parse_json_file(file_path):\n",
    "    try:\n",
    "        with open(\"C:\\\\Users\\\\Avantika\\\\OneDrive\\\\Desktop\\\\data.json\", 'r') as file:\n",
    "            data = json.load(file) \n",
    "            \n",
    "            for key, value in data.items():\n",
    "                print(f\"{key}: {value}\")\n",
    "    \n",
    "    except FileNotFoundError:\n",
    "        print(f\"Error: The file '{file_path}' was not found.\")\n",
    "    except json.JSONDecodeError:\n",
    "        print(\"Error: Failed to decode JSON from the file.\")\n",
    "    except Exception as e:\n",
    "        print(f\"An error occurred: {e}\")\n",
    "\n",
    "def main():\n",
    "    file_path = input(\"Enter the JSON file path: \")\n",
    "    \n",
    "    parse_json_file(file_path)\n",
    "\n",
    "if __name__ == '__main__':\n",
    "    main()\n"
   ]
  },
  {
   "cell_type": "code",
   "execution_count": 7,
   "id": "3c90e00f-2518-425c-b9a7-f4a8d4b61226",
   "metadata": {},
   "outputs": [
    {
     "name": "stdin",
     "output_type": "stream",
     "text": [
      "Enter the URL of a news website:  https://www.bbc.com/\n"
     ]
    },
    {
     "name": "stdout",
     "output_type": "stream",
     "text": [
      "1. Trump says Syria 'not our fight'. Staying out may not be so easy\n",
      "2. Macron names centrist Bayrou as French PM in bid to end political instability\n",
      "3. Trump says Syria 'not our fight'. Staying out may not be so easy\n",
      "4. Macron names centrist Bayrou as French PM in bid to end political instability\n",
      "5. 'Today we are celebrating a new Syria': Mass rallies mark end of Assad regime\n",
      "6. New York grand jury begins hearing Mangione case - report\n",
      "7. Bloody siege ends Myanmar army control of western border\n",
      "8. Alleged Chinese spy had 'unusual degree of trust' with Andrew\n",
      "9. Dragons Den star Bartlett sharing harmful misinformation on podcast\n",
      "10. Only from the BBC\n"
     ]
    }
   ],
   "source": [
    "import requests\n",
    "from bs4 import BeautifulSoup\n",
    "\n",
    "def scrape_headlines(url):\n",
    "    try:\n",
    "        response = requests.get(url)\n",
    "        response.raise_for_status()  \n",
    "        \n",
    "        soup = BeautifulSoup(response.content, 'html.parser')\n",
    "        \n",
    "        headlines = soup.find_all(['h2', 'h3'])  \n",
    "        \n",
    "        for idx, headline in enumerate(headlines[:10], 1): \n",
    "            print(f\"{idx}. {headline.get_text(strip=True)}\")\n",
    "    \n",
    "    except requests.exceptions.RequestException as e:\n",
    "        print(f\"Error while fetching the webpage: {e}\")\n",
    "    except Exception as e:\n",
    "        print(f\"An error occurred: {e}\")\n",
    "\n",
    "def main():\n",
    "    url = input(\"Enter the URL of a news website: \")\n",
    "    \n",
    "    scrape_headlines(url)\n",
    "\n",
    "if __name__ == '__main__':\n",
    "    main()\n"
   ]
  },
  {
   "cell_type": "code",
   "execution_count": 34,
   "id": "d602f913-d720-45dd-9b8f-3cd8b901587e",
   "metadata": {},
   "outputs": [
    {
     "name": "stdin",
     "output_type": "stream",
     "text": [
      "Enter a sorted array of integers :  1 3 5 7 9\n",
      "Enter the target value:  7\n"
     ]
    },
    {
     "name": "stdout",
     "output_type": "stream",
     "text": [
      "Found at index 3\n"
     ]
    }
   ],
   "source": [
    "def binary_search(arr, target):\n",
    "    left, right = 0, len(arr) - 1\n",
    "    \n",
    "    while left <= right:\n",
    "        mid = (left + right) // 2 \n",
    "        \n",
    "        if arr[mid] == target:\n",
    "            return mid \n",
    "        \n",
    "        elif arr[mid] > target:\n",
    "            right = mid - 1\n",
    "        \n",
    "        else:\n",
    "            left = mid + 1\n",
    "    \n",
    "    return -1 \n",
    "\n",
    "def main():\n",
    "    arr = list(map(int, input(\"Enter a sorted array of integers : \").split()))\n",
    "    target = int(input(\"Enter the target value: \")) \n",
    "\n",
    "    result = binary_search(arr, target)\n",
    "    \n",
    "    if result != -1:\n",
    "        print(f\"Found at index {result}\")\n",
    "    else:\n",
    "        print(\"Target not found in the array.\")\n",
    "\n",
    "if __name__ == '__main__':\n",
    "    main()\n"
   ]
  },
  {
   "cell_type": "code",
   "execution_count": 2,
   "id": "7b225e3f-2c92-4be7-9c0d-e836a457a7cb",
   "metadata": {},
   "outputs": [
    {
     "name": "stdin",
     "output_type": "stream",
     "text": [
      "Enter a paragraph:  apple banana apple orange banana banana\n"
     ]
    },
    {
     "name": "stdout",
     "output_type": "stream",
     "text": [
      "apple: 2\n",
      "banana: 3\n",
      "orange: 1\n"
     ]
    }
   ],
   "source": [
    "def count_word_frequency(paragraph):\n",
    "    words = paragraph.split()\n",
    "    \n",
    "    word_count = {}\n",
    "    \n",
    "    for word in words:\n",
    "        word = word.lower()\n",
    "        \n",
    "        if word in word_count:\n",
    "            word_count[word] += 1\n",
    "        else:\n",
    "            word_count[word] = 1\n",
    "    \n",
    "    return word_count\n",
    "\n",
    "def main():\n",
    "    paragraph = input(\"Enter a paragraph: \")\n",
    "   \n",
    "    word_count = count_word_frequency(paragraph)\n",
    "    \n",
    "    for word, count in word_count.items():\n",
    "        print(f\"{word}: {count}\")\n",
    "\n",
    "if __name__ == '__main__':\n",
    "    main()\n"
   ]
  },
  {
   "cell_type": "code",
   "execution_count": 6,
   "id": "1ed12009-9977-48c5-bcba-f2c6578f63bb",
   "metadata": {},
   "outputs": [
    {
     "name": "stdin",
     "output_type": "stream",
     "text": [
      "Enter a list of numbers separated by space:  1 2 3 2 4 5 2 6\n"
     ]
    },
    {
     "name": "stdout",
     "output_type": "stream",
     "text": [
      "Optimized Code Output:\n",
      "Square of 2 is 4\n",
      "Square of 2 is 4\n",
      "Square of 4 is 16\n",
      "Square of 2 is 4\n",
      "Square of 6 is 36\n",
      "\n",
      "Max number is 6\n",
      "Number counts:\n",
      "1: 1\n",
      "2: 3\n",
      "3: 1\n",
      "4: 1\n",
      "5: 1\n",
      "6: 1\n",
      "\n"
     ]
    }
   ],
   "source": [
    "from collections import Counter\n",
    "\n",
    "def optimized_code(numbers):\n",
    "    result = \"Optimized Code Output:\\n\"\n",
    "    \n",
    "    even_squares = [f\"Square of {num} is {num * num}\" for num in numbers if num % 2 == 0]\n",
    "    result += \"\\n\".join(even_squares) + \"\\n\" if even_squares else \"No even numbers to square.\\n\"\n",
    "    \n",
    "    max_num = max(numbers, default=None)  \n",
    "    result += f\"\\nMax number is {max_num}\\n\"\n",
    "    \n",
    "    count_dict = Counter(numbers) \n",
    "    result += \"Number counts:\\n\"\n",
    "    result += \"\\n\".join([f\"{num}: {count}\" for num, count in count_dict.items()]) + \"\\n\"\n",
    "    \n",
    "    return result\n",
    "\n",
    "input_string = input(\"Enter a list of numbers separated by space: \")\n",
    "numbers = list(map(int, input_string.split()))\n",
    "\n",
    "print(optimized_code(numbers))\n"
   ]
  },
  {
   "cell_type": "code",
   "execution_count": null,
   "id": "a1c28ffd-6eb5-448d-bd26-4de745ee03bd",
   "metadata": {},
   "outputs": [],
   "source": []
  },
  {
   "cell_type": "code",
   "execution_count": null,
   "id": "ce02ec92-0286-4384-bb60-7552b11c4d1d",
   "metadata": {},
   "outputs": [],
   "source": []
  }
 ],
 "metadata": {
  "kernelspec": {
   "display_name": "Python 3 (ipykernel)",
   "language": "python",
   "name": "python3"
  },
  "language_info": {
   "codemirror_mode": {
    "name": "ipython",
    "version": 3
   },
   "file_extension": ".py",
   "mimetype": "text/x-python",
   "name": "python",
   "nbconvert_exporter": "python",
   "pygments_lexer": "ipython3",
   "version": "3.11.7"
  }
 },
 "nbformat": 4,
 "nbformat_minor": 5
}
